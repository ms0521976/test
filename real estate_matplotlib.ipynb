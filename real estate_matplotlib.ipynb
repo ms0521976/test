{
 "cells": [
  {
   "cell_type": "code",
   "execution_count": 1,
   "metadata": {},
   "outputs": [
    {
     "name": "stdout",
     "output_type": "stream",
     "text": [
      "<class 'pandas.core.series.Series'>\n",
      "交易年月日\n",
      "2016    604678.162857\n",
      "2017    592715.891139\n",
      "2018    665546.173585\n",
      "2019    577452.933862\n",
      "2020    544227.000625\n",
      "Name: 單價/坪, dtype: float64\n"
     ]
    }
   ],
   "source": [
    "# -*- coding: utf-8 -*-\n",
    "\"\"\"\n",
    "Created on Fri Mar 19 22:57:30 2021\n",
    "\"\"\"\n",
    "import pandas as pd   # 引入pandas套件,使用別名 pd\n",
    "\n",
    "\n",
    "\n",
    "real_estate=pd.read_csv(r'C:\\Users\\rexch\\Desktop\\13\\real estate.csv',low_memory=False)\n",
    "\n",
    "ask1= real_estate[\"district\"] == \"永和區\"     #篩選永和區 含車位的房地 住家\n",
    "ask2 = real_estate[\"rps01\"] == \"房地(土地+建物)+車位\"\n",
    "ask3 = real_estate[\"rps04\"] == \"住\"\n",
    "result=(real_estate[(ask1 & ask2 & ask3)])\n",
    "result=result.sort_values(by='rps07')  #交易年先做排序 \n",
    "\n",
    "print(type(result['rps07']))\n",
    "\n",
    "\n",
    "#年份的轉換 \n",
    "result['rps07'] = result['rps07'].astype(str)\n",
    "\n",
    "result['rps07'] = (result['rps07'].str.slice(-7,-4).astype(int) + 1911).astype(str) +result['rps07'].str.slice(-4,-2) + result['rps07'].str.slice(-2, )\n",
    "result['rps07'] = pd.to_datetime(result['rps07']).dt.year  #取年份 \n",
    "\n",
    "\n",
    "\n",
    "#把單價/平方公尺 轉換為 單價/坪  並四捨五入到第一位\n",
    "\n",
    "result['rps22']=round((result['rps22']/0.3025),1)\n",
    "result=result.sort_values(by='rps22')  #排序\n",
    "\n",
    "result=result[['district','rps01','rps02','rps07','rps21','rps22','rps27']]\n",
    "\n",
    "rename_dic = {\"district\":\"鄉鎮市區\",\"rps01\":\"交易標的\",\"rps02\":\"土地區段位置建物區段門牌\",\"rps07\":\"交易年月日\",\"rps21\":\"總價元\",\"rps22\":\"單價/坪\",\"rps27\":\"編號\"}\n",
    "result=result.rename(rename_dic, axis=1) \n",
    "#print(result[['單價/坪']])      #印出每筆單價 \n",
    "\n",
    "result.to_csv(r'C:\\Users\\rexch\\Desktop\\13\\serch.csv',encoding='utf-8-sig')\n",
    " #匯出要記得轉碼\n",
    " \n",
    " \n",
    " \n",
    "result.columns=[\"鄉鎮市區\",\"交易標的\",\"土地區段位置建物區段門牌\",\"交易年月日\",\"總價元\",\"單價/坪\",\"編號\"]\n",
    "result.sum(axis = 1)\n",
    "\n",
    "\n",
    "#算出每年平均\n",
    "result2=result.groupby([\"交易年月日\"])[\"單價/坪\"].mean()\n",
    "print(result2)\n",
    "result2.to_csv(r'C:\\Users\\rexch\\Desktop\\13\\sum.csv',encoding='utf-8-sig')\n",
    "\n",
    "\n",
    "\n",
    "\n",
    "#算出最後資訊\n",
    "result=result.describe()\n",
    "#print(result)\n",
    "result.to_csv(r'C:\\Users\\rexch\\Desktop\\13\\describe.csv',encoding='utf-8-sig') #匯出要記得轉碼\n",
    "\n",
    "\n",
    "\n",
    "\n",
    "\n",
    "\n",
    "# =============================================================================\n",
    "# #篩選年份，修改index\n",
    "# \n",
    "# result = result['rps07'].tolist()\n",
    "# \n",
    "# \n",
    "# \n",
    "# count=0\n",
    "# for year in result:\n",
    "#     count+=1\n",
    "#     if  year >1090000:\n",
    "#          print(\"109\")     \n",
    "#     elif year > 1080000 :\n",
    "#          print(\"108\")\n",
    "#     elif year > 1070000 :\n",
    "#          print(\"107\")\n",
    "#     elif year >1060000:\n",
    "#          print(\"106\")  \n",
    "#     else :\n",
    "#          print(\"105\")   \n",
    "#          \n",
    "# \n",
    "# print(year)\n",
    "# result = result.DataFrame(columns = '交易年 ', data = year)\n",
    "# ============================================================================="
   ]
  },
  {
   "cell_type": "code",
   "execution_count": 4,
   "metadata": {},
   "outputs": [
    {
     "data": {
      "image/png": "[encoded data removed]",
      "text/plain": [
       "<Figure size 432x288 with 1 Axes>"
      ]
     },
     "metadata": {
      "needs_background": "light"
     },
     "output_type": "display_data"
    }
   ],
   "source": [
    "import matplotlib.pyplot as plt\n",
    "from matplotlib.font_manager import FontProperties \n",
    "\n",
    "#中文字型設定 \n",
    "plt.rcParams['font.sans-serif'] = 'Microsoft JhengHei'\n",
    "plt.rcParams['axes.unicode_minus'] = False\n",
    "\n",
    "\n",
    "result2.plot()\n",
    "#plt.ylim(500000, 700000)\n",
    "plt.axis([2015, 2020,400000,700000])\n",
    "plt.ylabel('單價/坪')\n",
    "plt.xlabel('年份')\n",
    "\n",
    "\n",
    "\n",
    "\n",
    "plt.show()"
   ]
  },
  {
   "cell_type": "code",
   "execution_count": null,
   "metadata": {},
   "outputs": [],
   "source": []
  }
 ],
 "metadata": {
  "kernelspec": {
   "display_name": "Python 3",
   "language": "python",
   "name": "python3"
  },
  "language_info": {
   "codemirror_mode": {
    "name": "ipython",
    "version": 3
   },
   "file_extension": ".py",
   "mimetype": "text/x-python",
   "name": "python",
   "nbconvert_exporter": "python",
   "pygments_lexer": "ipython3",
   "version": "3.8.5"
  }
 },
 "nbformat": 4,
 "nbformat_minor": 4
}
